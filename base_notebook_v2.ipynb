{
 "cells": [
  {
   "cell_type": "code",
   "execution_count": 13,
   "metadata": {
    "collapsed": true
   },
   "outputs": [],
   "source": [
    "# Problem 1:\n",
    "# Partially observable expectation maximization using two agents(blue and yellow) on a 2-D matrix\n",
    "# with a Gaussian mixture of blue and yellow distributions used to drop samples on the grid that the agents have to look for.\n",
    "#\n",
    "# Methodology:\n",
    "# Goal of Blue Agent: find and sit on square of maximal blue reward (peak of blue Gaussian).\n",
    "# Goal of Yellow Agent: find and sit on square of maximal yellow reward (peak of yellow Gaussian).\n",
    "#\n",
    "# At each time step, a random sample is taken from distribution and dropped on grid.\n",
    "# At each time step, expectation maximization is performed until convergence and the predicted points of\n",
    "# peak blue and yellow are reported to the agents.\n",
    "# At each time step, agents update their policies to take a step towards current perceived peak.\n",
    "#\n",
    "# We could compare expectation maximization to alternative methods of belief update and see what allows agents\n",
    "# to converge to Gaussian peaks the fastest.\n"
   ]
  },
  {
   "cell_type": "code",
   "execution_count": 25,
   "metadata": {},
   "outputs": [],
   "source": [
    "%matplotlib inline\n",
    "import numpy as np\n",
    "import pandas as pd\n",
    "import random as rand\n",
    "import matplotlib.pyplot as plt\n",
    "from scipy.stats import stats\n",
    "from matplotlib.patches import Ellipse\n",
    "from sklearn.datasets.samples_generator import make_blobs\n",
    "from sklearn.mixture import GaussianMixture\n",
    "import random\n",
    "import math\n",
    "from scipy.stats import ks_2samp"
   ]
  },
  {
   "cell_type": "code",
   "execution_count": 29,
   "metadata": {
    "scrolled": false
   },
   "outputs": [],
   "source": [
    "def estimateMeanConvergence(move, i, my_centers, agentR, agentB, max_iter, X_old = None):\n",
    "    # move distributions?\n",
    "#     move = random.randint(0, 1)\n",
    "    print(f\"Did actually move? {(lambda move:'YES' if move == 1 else 'NO')(move)}\")\n",
    "    my_centers = ((my_centers[0][0] + 1*move, my_centers[0][1] + 4*move),\n",
    "                  (my_centers[1][0] - 3*move, my_centers[1][1] - 1*move))\n",
    "    print(\"iteration: %d\"%i)\n",
    "    # draw samples\n",
    "    X, y_true = make_blobs(n_samples=10000, centers=my_centers,\n",
    "                       cluster_std=1.5, random_state=i)\n",
    "    \n",
    "    \n",
    "    # stack observations if new data from same distribution (in order to incorporate more data into estimate of mean).\n",
    "    # otherwise, only use new data.\n",
    "    #\n",
    "    # note: assumes independence of x and y\n",
    "    if i!= 0:\n",
    "        # fit GMM using previous means as initial means\n",
    "        gmm = GaussianMixture(n_components=2, means_init = gmm.means_,\n",
    "                          max_iter=max_iter).fit(X)\n",
    "        # extract predicted labels\n",
    "        labels = gmm.predict(X)\n",
    "        ks_df = pd.DataFrame(np.column_stack((X, labels)))\n",
    "        \n",
    "        print(ks_2samp(ks_df[ks_df[2] == 1][0], ks_df_OLD[ks_df_OLD[2] == 1][0])) # TEMP\n",
    "        \n",
    "        # if estimated underlying distributions have not changed, stack data.\n",
    "        #\n",
    "        # note: assumes independence of x and y (i.e. uses univariate ks test)\n",
    "        if ks_2samp(ks_df[ks_df[2] == 1][0], ks_df_OLD[ks_df_OLD[2] == 1][0])[1] > .99 and\\\n",
    "            ks_2samp(ks_df[ks_df[2] == 1][1], ks_df_OLD[ks_df_OLD[2] == 1][1])[1] > .99 and\\\n",
    "            ks_2samp(ks_df[ks_df[2] == 0][0], ks_df_OLD[ks_df_OLD[2] == 0][0])[1] > .99 and\\\n",
    "            ks_2samp(ks_df[ks_df[2] == 0][0], ks_df_OLD[ks_df_OLD[2] == 0][0])[1] > .99:\n",
    "                # stack observations\n",
    "                X = np.vstack((X_old, X)) \n",
    "        \n",
    "    # fit GMM\n",
    "    gmm = GaussianMixture(n_components=2, init_params='kmeans',\n",
    "                          max_iter=max_iter).fit(X)\n",
    "    \n",
    "    # extract predicted labels\n",
    "    labels = gmm.predict(X)\n",
    "    \n",
    "    # create ks df for next iteration\n",
    "    ks_df_OLD = pd.DataFrame(np.column_stack((X, labels)))\n",
    "\n",
    "    \n",
    "    # update target means for agents to seek\n",
    "    B_mean_estimate, R_mean_estimate = tuple(gmm.means_[0]), tuple(gmm.means_[1])\n",
    "    \n",
    "    \n",
    "    ## move agents towards respective estimated means \n",
    "    #\n",
    "    # calc distances from agents to respective means\n",
    "    distanceR = (sum((np.array(R_mean_estimate) - np.array(agentR))**2))**(1/2) # unweighted....no log prob...\n",
    "    distanceB = (sum((np.array(B_mean_estimate) - np.array(agentB))**2))**(1/2) # unweighted....no log prob...\n",
    "    \n",
    "    # calculate angles\n",
    "    angle_degreeR = math.degrees(math.atan2(R_mean_estimate[1] - agentR[1],\n",
    "                                            R_mean_estimate[0] - agentR[0]))\n",
    "    angle_degreeB = math.degrees(math.atan2(B_mean_estimate[1] - agentB[1],\n",
    "                                            B_mean_estimate[0] - agentB[0]))\n",
    "    \n",
    "    # scale (if set to 1, agent will move all the way to mean of respective distribution) \n",
    "    scaleR = .5\n",
    "    scaleB = .5\n",
    "    \n",
    "    # set new agent location (red)\n",
    "    agentR = agentR[0] + scaleR * distanceR * math.cos(angle_degreeR * math.pi / 180),\\\n",
    "             agentR[1] + scaleR * distanceR * math.sin(angle_degreeR * math.pi / 180)\n",
    "    # set new agent location (blue)\n",
    "    agentB = agentB[0] + scaleB * distanceB * math.cos(angle_degreeB * math.pi / 180),\\\n",
    "             agentB[1] + scaleB * distanceB * math.sin(angle_degreeB * math.pi / 180)\n",
    "    \n",
    "    \n",
    "    # Plot points, assigning GMM labels as colors\n",
    "    fig = plt.figure(figsize=(9, 9))\n",
    "    plt.axis([-20, 20, -20, 20])\n",
    "    plt.scatter(X[:, 0], X[:, 1], c=labels, s=24, cmap='jet')\n",
    "    \n",
    "    # add updated points to plot\n",
    "    plt.plot(agentR[0], agentR[1], marker='s', linestyle='-', color='y') \n",
    "    plt.plot(agentB[0], agentB[1], marker='s', linestyle='-', color='g') \n",
    "    \n",
    "    # make data copy for next iteration\n",
    "    X_old = np.copy(X) \n",
    "    #Increment Counter\n",
    "    i+=1\n",
    "    return X_old,i\n",
    "    \n",
    "    #print(gmm.lower_bound_)\n",
    "    "
   ]
  },
  {
   "cell_type": "code",
   "execution_count": 30,
   "metadata": {
    "collapsed": true
   },
   "outputs": [],
   "source": [
    "# Set initial values\n",
    "\n",
    "random.seed(1)\n",
    "max_iter = 100\n",
    "agentR = (-25, -25) # initial location of agentR\n",
    "agentB = (25, -25) # initial location of agentB\n",
    "my_centers = ((-5, -5),(5, 5))\n",
    "i = 0"
   ]
  },
  {
   "cell_type": "code",
   "execution_count": 32,
   "metadata": {},
   "outputs": [],
   "source": [
    "move = 0"
   ]
  },
  {
   "cell_type": "code",
   "execution_count": 33,
   "metadata": {
    "collapsed": true
   },
   "outputs": [
    {
     "name": "stdout",
     "output_type": "stream",
     "text": [
      "Did actually move? NO\n",
      "iteration: 0\n"
     ]
    },
    {
     "data": {
      "text/plain": [
       "(array([[-2.65512857, -6.38986955],\n",
       "        [-3.50523792, -5.8222062 ],\n",
       "        [-1.59536806, -7.18154851],\n",
       "        ..., \n",
       "        [-5.1404759 , -5.83056224],\n",
       "        [ 7.15829622,  3.80076783],\n",
       "        [ 5.51922246,  4.71062159]]), 1)"
      ]
     },
     "execution_count": 33,
     "metadata": {},
     "output_type": "execute_result"
    },
    {
     "data": {
      "image/png": "[encoded data removed]",
      "text/plain": [
       "<matplotlib.figure.Figure at 0x20b54a521d0>"
      ]
     },
     "metadata": {},
     "output_type": "display_data"
    }
   ],
   "source": [
    "estimateMeanConvergence(move, i, X_old, my_centers, agentR, agentB, max_iter)"
   ]
  },
  {
   "cell_type": "code",
   "execution_count": null,
   "metadata": {
    "collapsed": true
   },
   "outputs": [],
   "source": [
    "# old notes...\n",
    "\n",
    "# 1) Drop sample.\n",
    "# 2) Produce initializing guess (intentionally bad/random)\n",
    "# 3) Perform Expectation Maximization to update estimates until convergence.\n",
    "# 4) Move Agents 1 step in direction of current mean estimates.\n",
    "# 4) Drop next sample, from new distribution (generated randomly, within parameters...)\n",
    "# 5) Use last convergences as new initial guesses...\n",
    "# 6) Perform Expectation Maximization to update estimates until convergence.\n",
    "# 7) Move Agents 1 step in direction of updated mean estimates...\n",
    "\n",
    "# For current default, set this to run for 100 distribution movements (i.e. 100(x2) convergences, and 100(x2) steps.)\n",
    "\n"
   ]
  },
  {
   "cell_type": "code",
   "execution_count": null,
   "metadata": {
    "collapsed": true
   },
   "outputs": [],
   "source": [
    "# lower_bound_ : float\n",
    "#Log-likelihood of the best fit of EM.\n",
    "\n",
    "# could take step proportional to size of log-likelihood?"
   ]
  },
  {
   "cell_type": "code",
   "execution_count": null,
   "metadata": {
    "collapsed": true
   },
   "outputs": [],
   "source": [
    "\n"
   ]
  }
 ],
 "metadata": {
  "kernelspec": {
   "display_name": "Python 3",
   "language": "python",
   "name": "python3"
  },
  "language_info": {
   "codemirror_mode": {
    "name": "ipython",
    "version": 3
   },
   "file_extension": ".py",
   "mimetype": "text/x-python",
   "name": "python",
   "nbconvert_exporter": "python",
   "pygments_lexer": "ipython3",
   "version": "3.6.4"
  }
 },
 "nbformat": 4,
 "nbformat_minor": 2
}
